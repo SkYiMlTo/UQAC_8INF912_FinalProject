{
 "cells": [
  {
   "cell_type": "code",
   "execution_count": 25,
   "metadata": {},
   "outputs": [],
   "source": [
    "import pandas as pd\n",
    "import re"
   ]
  },
  {
   "cell_type": "code",
   "execution_count": 26,
   "metadata": {},
   "outputs": [
    {
     "name": "stdout",
     "output_type": "stream",
     "text": [
      "<class 'pandas.core.frame.DataFrame'>\n",
      "RangeIndex: 321428 entries, 0 to 321427\n",
      "Data columns (total 37 columns):\n",
      " #   Column                    Non-Null Count   Dtype  \n",
      "---  ------                    --------------   -----  \n",
      " 0   lastSensorEventHours      321428 non-null  float64\n",
      " 1   lastSensorEventSeconds    321428 non-null  float64\n",
      " 2   lastSensorDayOfWeek       321428 non-null  float64\n",
      " 3   windowDuration            321428 non-null  float64\n",
      " 4   timeSinceLastSensorEvent  321428 non-null  float64\n",
      " 5   prevDominantSensor1       321428 non-null  float64\n",
      " 6   prevDominantSensor2       321428 non-null  float64\n",
      " 7   lastSensorID              321428 non-null  float64\n",
      " 8   lastSensorLocation        321428 non-null  float64\n",
      " 9   lastMotionLocation        321428 non-null  float64\n",
      " 10  complexity                321428 non-null  float64\n",
      " 11  activityChange            321428 non-null  float64\n",
      " 12  areaTransitions           321428 non-null  float64\n",
      " 13  numDistinctSensors        321428 non-null  float64\n",
      " 14  sensorCount-Bathroom      321428 non-null  float64\n",
      " 15  sensorCount-Bedroom       321428 non-null  float64\n",
      " 16  sensorCount-Chair         321428 non-null  float64\n",
      " 17  sensorCount-DiningRoom    321428 non-null  float64\n",
      " 18  sensorCount-Hall          321428 non-null  float64\n",
      " 19  sensorCount-Ignore        321428 non-null  float64\n",
      " 20  sensorCount-Kitchen       321428 non-null  float64\n",
      " 21  sensorCount-LivingRoom    321428 non-null  float64\n",
      " 22  sensorCount-Office        321428 non-null  float64\n",
      " 23  sensorCount-OutsideDoor   321428 non-null  float64\n",
      " 24  sensorCount-WorkArea      321428 non-null  float64\n",
      " 25  sensorElTime-Bathroom     321428 non-null  float64\n",
      " 26  sensorElTime-Bedroom      321428 non-null  float64\n",
      " 27  sensorElTime-Chair        321428 non-null  float64\n",
      " 28  sensorElTime-DiningRoom   321428 non-null  float64\n",
      " 29  sensorElTime-Hall         321428 non-null  float64\n",
      " 30  sensorElTime-Ignore       321428 non-null  float64\n",
      " 31  sensorElTime-Kitchen      321428 non-null  float64\n",
      " 32  sensorElTime-LivingRoom   321428 non-null  float64\n",
      " 33  sensorElTime-Office       321428 non-null  float64\n",
      " 34  sensorElTime-OutsideDoor  321428 non-null  float64\n",
      " 35  sensorElTime-WorkArea     321428 non-null  float64\n",
      " 36  activity                  321428 non-null  object \n",
      "dtypes: float64(36), object(1)\n",
      "memory usage: 90.7+ MB\n"
     ]
    }
   ],
   "source": [
    "dir = \"D:\\\\IoT\\\\Data\\\\hh101\"\n",
    "\n",
    "df =pd.read_csv(dir + \"/\" + \"hh101.ann.features.csv\")\n",
    "\n",
    "df.info()"
   ]
  },
  {
   "cell_type": "code",
   "execution_count": 27,
   "metadata": {},
   "outputs": [],
   "source": [
    "#Détecte des anomalies simple\n",
    "def anomaly_detection(date, sensor, translate01, translate02, message, sensorType) :\n",
    "    #Anomalies au niveau de la porte d'entrée   \n",
    "    if int(date[11:13]) >= 0 and int(date[11:13]) <= 6 and (message == \"OPEN\" or message == \"ON\") and translate01 == \"OutsideDoor\":\n",
    "        print(\"Anomaly : \" , date, sensor, translate01, translate02, message, sensorType)\n",
    "\n",
    "    #Anomalies de température\n",
    "    if re.match(\"T\\D*\",sensor) and (int(message) > 40 or int(message) < 15) :\n",
    "        print(\"Anomaly : \" , date, sensor, translate01, translate02, message, sensorType)\n"
   ]
  },
  {
   "cell_type": "code",
   "execution_count": 28,
   "metadata": {},
   "outputs": [],
   "source": [
    "#make parser for dataset <Date> <Time> <Sensor> <Translate01> <Translate02> <Message> <SensorType> <\n",
    "def parse(line):\n",
    "    line = line.split(\"\\t\")\n",
    "    date = line[0]\n",
    "    sensor = line[1]\n",
    "    translate01 = line[2]\n",
    "    translate02 = line[3]\n",
    "    message = line[4]\n",
    "    sensorType = line[5]\n",
    "    anomaly_detection(date, sensor, translate01, translate02, message, sensorType)\n",
    "    return date, sensor, translate01, translate02, message, sensorType\n",
    "    \n"
   ]
  },
  {
   "cell_type": "code",
   "execution_count": 29,
   "metadata": {},
   "outputs": [
    {
     "ename": "NameError",
     "evalue": "name 're' is not defined",
     "output_type": "error",
     "traceback": [
      "\u001b[1;31m---------------------------------------------------------------------------\u001b[0m",
      "\u001b[1;31mNameError\u001b[0m                                 Traceback (most recent call last)",
      "\u001b[1;32md:\\IoT\\UQAC_8INF912_FinalProject\\AnomalyDetection\\Tests.ipynb Cell 5'\u001b[0m in \u001b[0;36m<cell line: 6>\u001b[1;34m()\u001b[0m\n\u001b[0;32m      <a href='vscode-notebook-cell:/d%3A/IoT/UQAC_8INF912_FinalProject/AnomalyDetection/Tests.ipynb#ch0000003?line=5'>6</a>\u001b[0m \u001b[39mwith\u001b[39;00m \u001b[39mopen\u001b[39m(file) \u001b[39mas\u001b[39;00m f:\n\u001b[0;32m      <a href='vscode-notebook-cell:/d%3A/IoT/UQAC_8INF912_FinalProject/AnomalyDetection/Tests.ipynb#ch0000003?line=6'>7</a>\u001b[0m     \u001b[39mfor\u001b[39;00m line \u001b[39min\u001b[39;00m f\u001b[39m.\u001b[39mreadlines(\u001b[39m10000\u001b[39m):\n\u001b[0;32m      <a href='vscode-notebook-cell:/d%3A/IoT/UQAC_8INF912_FinalProject/AnomalyDetection/Tests.ipynb#ch0000003?line=7'>8</a>\u001b[0m         \u001b[39m#print(line)\u001b[39;00m\n\u001b[1;32m----> <a href='vscode-notebook-cell:/d%3A/IoT/UQAC_8INF912_FinalProject/AnomalyDetection/Tests.ipynb#ch0000003?line=8'>9</a>\u001b[0m         date, sensor, translate01, translate02, message, sensorType \u001b[39m=\u001b[39m parse(line)\n\u001b[0;32m     <a href='vscode-notebook-cell:/d%3A/IoT/UQAC_8INF912_FinalProject/AnomalyDetection/Tests.ipynb#ch0000003?line=9'>10</a>\u001b[0m         data\u001b[39m.\u001b[39mloc[\u001b[39mlen\u001b[39m(data)] \u001b[39m=\u001b[39m [date, sensor, translate01, translate02, message, sensorType]\n",
      "\u001b[1;32md:\\IoT\\UQAC_8INF912_FinalProject\\AnomalyDetection\\Tests.ipynb Cell 4'\u001b[0m in \u001b[0;36mparse\u001b[1;34m(line)\u001b[0m\n\u001b[0;32m      <a href='vscode-notebook-cell:/d%3A/IoT/UQAC_8INF912_FinalProject/AnomalyDetection/Tests.ipynb#ch0000002?line=7'>8</a>\u001b[0m message \u001b[39m=\u001b[39m line[\u001b[39m4\u001b[39m]\n\u001b[0;32m      <a href='vscode-notebook-cell:/d%3A/IoT/UQAC_8INF912_FinalProject/AnomalyDetection/Tests.ipynb#ch0000002?line=8'>9</a>\u001b[0m sensorType \u001b[39m=\u001b[39m line[\u001b[39m5\u001b[39m]\n\u001b[1;32m---> <a href='vscode-notebook-cell:/d%3A/IoT/UQAC_8INF912_FinalProject/AnomalyDetection/Tests.ipynb#ch0000002?line=9'>10</a>\u001b[0m anomaly_detection(date, sensor, translate01, translate02, message, sensorType)\n\u001b[0;32m     <a href='vscode-notebook-cell:/d%3A/IoT/UQAC_8INF912_FinalProject/AnomalyDetection/Tests.ipynb#ch0000002?line=10'>11</a>\u001b[0m \u001b[39mreturn\u001b[39;00m date, sensor, translate01, translate02, message, sensorType\n",
      "\u001b[1;32md:\\IoT\\UQAC_8INF912_FinalProject\\AnomalyDetection\\Tests.ipynb Cell 3'\u001b[0m in \u001b[0;36manomaly_detection\u001b[1;34m(date, sensor, translate01, translate02, message, sensorType)\u001b[0m\n\u001b[0;32m      <a href='vscode-notebook-cell:/d%3A/IoT/UQAC_8INF912_FinalProject/AnomalyDetection/Tests.ipynb#ch0000012?line=4'>5</a>\u001b[0m     \u001b[39mprint\u001b[39m(\u001b[39m\"\u001b[39m\u001b[39mAnomaly : \u001b[39m\u001b[39m\"\u001b[39m , date, sensor, translate01, translate02, message, sensorType)\n\u001b[0;32m      <a href='vscode-notebook-cell:/d%3A/IoT/UQAC_8INF912_FinalProject/AnomalyDetection/Tests.ipynb#ch0000012?line=6'>7</a>\u001b[0m \u001b[39m#Anomalies de température\u001b[39;00m\n\u001b[1;32m----> <a href='vscode-notebook-cell:/d%3A/IoT/UQAC_8INF912_FinalProject/AnomalyDetection/Tests.ipynb#ch0000012?line=7'>8</a>\u001b[0m \u001b[39mif\u001b[39;00m re\u001b[39m.\u001b[39mmatch(\u001b[39m\"\u001b[39m\u001b[39mT\u001b[39m\u001b[39m\\\u001b[39m\u001b[39mD*\u001b[39m\u001b[39m\"\u001b[39m,sensor) \u001b[39mand\u001b[39;00m (\u001b[39mint\u001b[39m(message) \u001b[39m>\u001b[39m \u001b[39m40\u001b[39m \u001b[39mor\u001b[39;00m \u001b[39mint\u001b[39m(message) \u001b[39m<\u001b[39m \u001b[39m15\u001b[39m) :\n\u001b[0;32m      <a href='vscode-notebook-cell:/d%3A/IoT/UQAC_8INF912_FinalProject/AnomalyDetection/Tests.ipynb#ch0000012?line=8'>9</a>\u001b[0m     \u001b[39mprint\u001b[39m(\u001b[39m\"\u001b[39m\u001b[39mAnomaly : \u001b[39m\u001b[39m\"\u001b[39m , date, sensor, translate01, translate02, message, sensorType)\n",
      "\u001b[1;31mNameError\u001b[0m: name 're' is not defined"
     ]
    }
   ],
   "source": [
    "#read h101.rawdata.txt line by line\n",
    "file =dir + \"/\" + \"hh101.rawdata.txt\"\n",
    "\n",
    "data= pd.DataFrame(columns=[\"Date\", \"Sensor\", \"Translate01\", \"Translate02\", \"Message\", \"SensorType\"])\n",
    "\n",
    "with open(file) as f:\n",
    "    for line in f.readlines(10000):\n",
    "        #print(line)\n",
    "        date, sensor, translate01, translate02, message, sensorType = parse(line)\n",
    "        data.loc[len(data)] = [date, sensor, translate01, translate02, message, sensorType]\n",
    "\n",
    "\n",
    "#convert date to datetime\n",
    "\n",
    "\n"
   ]
  },
  {
   "cell_type": "code",
   "execution_count": null,
   "metadata": {},
   "outputs": [],
   "source": [
    "data[\"Date\"] = pd.to_datetime(data[\"Date\"])"
   ]
  },
  {
   "cell_type": "code",
   "execution_count": null,
   "metadata": {},
   "outputs": [],
   "source": []
  },
  {
   "cell_type": "code",
   "execution_count": null,
   "metadata": {},
   "outputs": [],
   "source": [
    "def fen_gen(data,win_size,step_size):\n",
    "    win_start = 0\n",
    "    for i in range(0,len(data),step_size):\n",
    "        win_end = win_start + win_size\n",
    "        if win_end > len(data):\n",
    "            break\n",
    "        else:\n",
    "            yield data[win_start:win_end]\n",
    "            win_start += step_size \n",
    "\n",
    "\n",
    "\n",
    "    "
   ]
  },
  {
   "cell_type": "code",
   "execution_count": null,
   "metadata": {},
   "outputs": [],
   "source": [
    "MotionSensorlist = data[data[\"SensorType\"]==\"Control4-Motion\\n\"][\"Sensor\"].value_counts().index.tolist()\n",
    "MotionSensorlist += data[data[\"SensorType\"]==\"Control4-MotionArea\\n\"][\"Sensor\"].value_counts().index.tolist()\n",
    "LightSensorlist = data[data[\"SensorType\"]==\"Control4-LightSensor\\n\"][\"Sensor\"].value_counts().index.tolist()\n",
    "DoorSensorlist = data[data[\"SensorType\"]==\"Control4-Door\\n\"][\"Sensor\"].value_counts().index.tolist()\n",
    "TempSensorlist = data[data[\"SensorType\"]==\"Control4-Door\\n\"][\"Sensor\"].value_counts().index.tolist()\n",
    "\n",
    "def compute_features(fen,last_features) :\n",
    "    \n",
    "    #heure \n",
    "    last_date = fen[\"Date\"].iloc[-1]\n",
    "    last_hour = last_date.hour + last_date.minute/60\n",
    "    duration = (fen[\"Date\"].iloc[-1] - fen[\"Date\"].iloc[0]).seconds\n",
    "\n",
    "    #jour de la semaine\n",
    "    week_day = last_date.weekday()\n",
    "    features = [last_date,last_hour, week_day, duration]\n",
    "    #motion sensor\n",
    "    \n",
    "    i=len(features)\n",
    "    for m in MotionSensorlist:\n",
    "        if fen[fen[\"Sensor\"]==m].shape[0] > 0:\n",
    "            if fen[fen[\"Sensor\"]==m].iloc[-1][\"Message\"] == \"ON\":\n",
    "                features.append(1)\n",
    "            else:\n",
    "                features.append(-1)\n",
    "        else:\n",
    "            features.append(last_features[i])\n",
    "        i+=1\n",
    "\n",
    "    \n",
    "\n",
    "    for d in DoorSensorlist:\n",
    "        if fen[fen[\"Sensor\"]==m].shape[0] > 0:\n",
    "            if fen[fen[\"Sensor\"]==m].iloc[-1][\"Message\"] == \"OPEN\":\n",
    "                features.append(1)\n",
    "            else:\n",
    "                features.append(-1)\n",
    "        else:\n",
    "            features.append(last_features[i])\n",
    "        i+=1\n",
    "    \n",
    "    \n",
    "    for l in LightSensorlist:\n",
    "        if fen[fen[\"Sensor\"]==l].shape[0] > 0:\n",
    "            features.append(int(fen[fen[\"Sensor\"]==l].iloc[-1][\"Message\"])/100.)\n",
    "        else:\n",
    "            features.append(last_features[i])\n",
    "        i+=1\n",
    "    \n",
    "    for t in TempSensorlist:\n",
    "        if fen[fen[\"Sensor\"]==l].shape[0] > 0:\n",
    "            features.append((fen[fen[\"Sensor\"]==l].iloc[-1][\"Message\"])/100.)\n",
    "        else:\n",
    "            features.append(last_features[i])\n",
    "        i+=1\n",
    "    \n",
    "    \n",
    "    \n",
    "    \n",
    "    return features\n",
    "\n"
   ]
  },
  {
   "cell_type": "code",
   "execution_count": null,
   "metadata": {},
   "outputs": [
    {
     "data": {
      "text/plain": [
       "[Timestamp('2012-07-18 12:54:46.507035'),\n",
       " 12.9,\n",
       " 2,\n",
       " 36001,\n",
       " 1,\n",
       " 1,\n",
       " 1,\n",
       " 1,\n",
       " 1,\n",
       " 1,\n",
       " 0,\n",
       " 0,\n",
       " 0,\n",
       " 0,\n",
       " 0,\n",
       " 0,\n",
       " -1,\n",
       " 0,\n",
       " 0,\n",
       " 0,\n",
       " 0,\n",
       " 0,\n",
       " 0,\n",
       " 0.47,\n",
       " 0.45,\n",
       " 0.29,\n",
       " 0.49,\n",
       " 0.47,\n",
       " 0.45,\n",
       " 0.43,\n",
       " 0.36,\n",
       " 0,\n",
       " 0,\n",
       " 0,\n",
       " 0,\n",
       " 0,\n",
       " 0,\n",
       " 0,\n",
       " 0,\n",
       " 0,\n",
       " 0,\n",
       " 0]"
      ]
     },
     "execution_count": 21,
     "metadata": {},
     "output_type": "execute_result"
    }
   ],
   "source": [
    "gen = fen_gen(data,30,15)\n",
    "\n",
    "compute_features(next(gen),[0 for i in range(100)])"
   ]
  },
  {
   "cell_type": "code",
   "execution_count": null,
   "metadata": {},
   "outputs": [
    {
     "data": {
      "text/plain": [
       "Index(['LS001', 'D002', 'M001', 'T101', 'T102', 'T103', 'T104', 'T105', 'M006',\n",
       "       'M007', 'M003', 'M004', 'M005', 'M011', 'MA013', 'M008', 'M002', 'M009',\n",
       "       'M012', 'MA015', 'M010', 'MA016', 'MA014', 'BATP014', 'LS005', 'LS014',\n",
       "       'BATP005', 'BATP013', 'BATP015', 'LS013', 'BATP006', 'LS015', 'LS007',\n",
       "       'BATP007', 'BATP004', 'LS006', 'D001', 'LS004', 'BATP008', 'BATP102',\n",
       "       'BATP103', 'D003', 'LS010', 'BATP010', 'LS011', 'BATP011', 'LS008',\n",
       "       'LS009', 'BATP003', 'BATP009', 'LS012', 'BATP012', 'BATP001', 'LS002',\n",
       "       'BATP002', 'BATP016', 'LS003', 'LS016'],\n",
       "      dtype='object')"
      ]
     },
     "execution_count": 22,
     "metadata": {},
     "output_type": "execute_result"
    }
   ],
   "source": [
    "#print Sensors for sensorType= Contrl4-motion\n",
    "data[\"Sensor\"].value_counts().index"
   ]
  },
  {
   "cell_type": "code",
   "execution_count": null,
   "metadata": {},
   "outputs": [
    {
     "data": {
      "text/plain": [
       "['D002', 'D001', 'D003']"
      ]
     },
     "execution_count": 23,
     "metadata": {},
     "output_type": "execute_result"
    }
   ],
   "source": [
    "data[data[\"SensorType\"]==\"Control4-Door\\n\"][\"Sensor\"].value_counts().index.tolist()\n"
   ]
  },
  {
   "cell_type": "code",
   "execution_count": null,
   "metadata": {},
   "outputs": [],
   "source": [
    "# faire un modele de detection d'anomalie\n",
    "#model = RandomForestClassifier(n_estimators=100, max_depth=2, random_state=0)\n",
    "\n",
    "\n"
   ]
  }
 ],
 "metadata": {
  "interpreter": {
   "hash": "06223ff710ff5ace97ce9b371694c98233dd4b18a812c51f43729e7919fddf05"
  },
  "kernelspec": {
   "display_name": "Python 3.9.12 64-bit (windows store)",
   "language": "python",
   "name": "python3"
  },
  "language_info": {
   "codemirror_mode": {
    "name": "ipython",
    "version": 3
   },
   "file_extension": ".py",
   "mimetype": "text/x-python",
   "name": "python",
   "nbconvert_exporter": "python",
   "pygments_lexer": "ipython3",
   "version": "3.9.12"
  },
  "orig_nbformat": 4
 },
 "nbformat": 4,
 "nbformat_minor": 2
}
